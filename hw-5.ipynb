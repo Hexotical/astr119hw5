{
 "cells": [
  {
   "cell_type": "code",
   "execution_count": 45,
   "metadata": {},
   "outputs": [],
   "source": [
    "#Cell for including things\n",
    "%matplotlib inline\n",
    "import numpy as np\n",
    "import matplotlib.pyplot as plt"
   ]
  },
  {
   "cell_type": "code",
   "execution_count": 46,
   "metadata": {},
   "outputs": [],
   "source": [
    "\n",
    "def trap_integral(function, interval_a, interval_b, starting_iterations):\n",
    "    x = np.linspace(interval_a, interval_b, starting_iterations) #make an array between the left and right boundaries\n",
    "    \n",
    "    h = x[1] - x[0]\n",
    "    # .5*h*f(x+h) + f(x)\n",
    "    \n",
    "    valOfIntegral = 0\n",
    "    for i in range(0, len(x)-1, 1):\n",
    "        valOfIntegral += 0.5 * h * (function(x[i]) + function(x[i] + h))\n",
    "    return valOfIntegral\n",
    "\n",
    "\n",
    "\n",
    "\n",
    "    "
   ]
  },
  {
   "cell_type": "code",
   "execution_count": 47,
   "metadata": {},
   "outputs": [],
   "source": [
    "def simpson_integral(function, interval_a, interval_b, starting_iterations):\n",
    "    x = np.linspace(interval_a, interval_b, starting_iterations) #make an array between the left and right boundaries\n",
    "    \n",
    "    h = x[1] - x[0]\n",
    "    # .5*h*f(x+h) + f(x)\n",
    "    \n",
    "    valOfIntegral = 0\n",
    "    for i in range(0, len(x)-1, 1):\n",
    "        valOfIntegral += h * ( function(x[i]) + 4 * function(x[i] + h) + function(x[i] + 2 * h)) / 3\n",
    "    return valOfIntegral\n",
    "\n"
   ]
  },
  {
   "cell_type": "code",
   "execution_count": 48,
   "metadata": {},
   "outputs": [],
   "source": [
    "\n",
    "def romberg_core(f, a, b, i):\n",
    "    h = b-a\n",
    "    dh = h/2.**(i)\n",
    "    k = h/2.**(i+1)\n",
    "    M = 0.0\n",
    "    for j in range(2**i):\n",
    "        M+= f(a + 0.5*dh + j * dh)\n",
    "    return k*M\n",
    "\n",
    "def romberg_integral(function, interval_a, interval_b, tolerance):\n",
    "    i = 0\n",
    "    imax = 1000\n",
    "    delta = 100.0 * np.fabs(tolerance)\n",
    "    I = np.zeros(imax, dtype = float)\n",
    "    I[0] = 0.5 * (interval_b-interval_a)*(function(interval_a) + function(interval_b))\n",
    "    i += 1\n",
    "    \n",
    "    while(delta > tolerance):\n",
    "        I[i] = 0.5 * I[i-1] + romberg_core(function, interval_a, interval_b, i)\n",
    "\n",
    "        delta = np.fabs( (I[i] - I[i-1])/ I[i])\n",
    "        if(delta > tolerance):\n",
    "            i+=1\n",
    "            if(i > imax):\n",
    "                raise StopIteration(\"Stopping after \", i)\n",
    "        \n",
    "    return I[i]\n",
    "    \n",
    "\n",
    "            \n"
   ]
  },
  {
   "cell_type": "code",
   "execution_count": 49,
   "metadata": {},
   "outputs": [
    {
     "output_type": "stream",
     "name": "stdout",
     "text": [
      "\n",
      "\n",
      "Trapezoid integral val:  0.019363212068311722\n",
      "\n",
      "Simpson integral val:  0.008196415900548613\n",
      "\n",
      "Romberg integral val:  0.019196487168961114\n"
     ]
    }
   ],
   "source": [
    "x = np.linspace(0, np.pi, 1000) #make an array between 0 and pi with intervals of 1000\n",
    "f1 = lambda x: np.exp((-2*x)) * np.cos((10*x))\n",
    "tolerance = 0.0001\n",
    "#def trap_integral(function, interval_a, interval_b, starting_iterations, prev_val, tolerance):\n",
    "test_trap = trap_integral(f1, 0, np.pi, 100)\n",
    "print(\"\\n\")\n",
    "print(\"Trapezoid integral val: \", test_trap)\n",
    "\n",
    "#reset counter\n",
    "#def simpson_integral(function, interval_a, interval_b, starting_iterations, prev_val, tolerance):\n",
    "test_simp = simpson_integral(f1, 0, np.pi, 100)\n",
    "print(\"\\nSimpson integral val: \", test_simp)\n",
    "#romberg_integral(function, interval_a, interval_b, iteration_count, tolerance):\n",
    "test_romberg = romberg_integral(f1, 0, np.pi, tolerance) #computer being too slow to do this with good tolerance\n",
    "print(\"\\nRomberg integral val: \", test_romberg)\n",
    "\n"
   ]
  },
  {
   "cell_type": "code",
   "execution_count": null,
   "metadata": {},
   "outputs": [],
   "source": []
  }
 ],
 "metadata": {
  "kernelspec": {
   "display_name": "Python 3",
   "language": "python",
   "name": "python3"
  },
  "language_info": {
   "codemirror_mode": {
    "name": "ipython",
    "version": 3
   },
   "file_extension": ".py",
   "mimetype": "text/x-python",
   "name": "python",
   "nbconvert_exporter": "python",
   "pygments_lexer": "ipython3",
   "version": "3.8.3-final"
  }
 },
 "nbformat": 4,
 "nbformat_minor": 4
}